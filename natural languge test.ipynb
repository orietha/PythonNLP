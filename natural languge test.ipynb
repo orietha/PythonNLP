{
 "cells": [
  {
   "cell_type": "code",
   "execution_count": 1,
   "metadata": {
    "collapsed": true
   },
   "outputs": [],
   "source": [
    "import os\n",
    "import pandas as pd\n",
    "import numpy as np\n",
    "import numpy as np1\n",
    "import matplotlib.pyplot as plt\n",
    "from matplotlib import style"
   ]
  },
  {
   "cell_type": "code",
   "execution_count": 36,
   "metadata": {},
   "outputs": [
    {
     "data": {
      "text/html": [
       "<div>\n",
       "<style>\n",
       "    .dataframe thead tr:only-child th {\n",
       "        text-align: right;\n",
       "    }\n",
       "\n",
       "    .dataframe thead th {\n",
       "        text-align: left;\n",
       "    }\n",
       "\n",
       "    .dataframe tbody tr th {\n",
       "        vertical-align: top;\n",
       "    }\n",
       "</style>\n",
       "<table border=\"1\" class=\"dataframe\">\n",
       "  <thead>\n",
       "    <tr style=\"text-align: right;\">\n",
       "      <th></th>\n",
       "      <th>Rank</th>\n",
       "      <th>Song</th>\n",
       "      <th>Artist</th>\n",
       "      <th>Year</th>\n",
       "      <th>Lyrics</th>\n",
       "      <th>Source</th>\n",
       "    </tr>\n",
       "  </thead>\n",
       "  <tbody>\n",
       "    <tr>\n",
       "      <th>4874</th>\n",
       "      <td>75</td>\n",
       "      <td>the a team</td>\n",
       "      <td>ed sheeran</td>\n",
       "      <td>2013</td>\n",
       "      <td>white lips pale face breathing in snowflakes b...</td>\n",
       "      <td>3.0</td>\n",
       "    </tr>\n",
       "    <tr>\n",
       "      <th>4951</th>\n",
       "      <td>52</td>\n",
       "      <td>dont</td>\n",
       "      <td>ed sheeran</td>\n",
       "      <td>2014</td>\n",
       "      <td>i met this girl late last year she said dont ...</td>\n",
       "      <td>1.0</td>\n",
       "    </tr>\n",
       "    <tr>\n",
       "      <th>4955</th>\n",
       "      <td>56</td>\n",
       "      <td>sing</td>\n",
       "      <td>ed sheeran</td>\n",
       "      <td>2014</td>\n",
       "      <td>its late in the evening glass on the side now...</td>\n",
       "      <td>1.0</td>\n",
       "    </tr>\n",
       "    <tr>\n",
       "      <th>5001</th>\n",
       "      <td>2</td>\n",
       "      <td>thinking out loud</td>\n",
       "      <td>ed sheeran</td>\n",
       "      <td>2015</td>\n",
       "      <td>when your legs dont work like they used to be...</td>\n",
       "      <td>1.0</td>\n",
       "    </tr>\n",
       "    <tr>\n",
       "      <th>5033</th>\n",
       "      <td>34</td>\n",
       "      <td>photograph</td>\n",
       "      <td>ed sheeran</td>\n",
       "      <td>2015</td>\n",
       "      <td>loving can hurt loving can hurt sometimes but...</td>\n",
       "      <td>1.0</td>\n",
       "    </tr>\n",
       "    <tr>\n",
       "      <th>5091</th>\n",
       "      <td>92</td>\n",
       "      <td>dont</td>\n",
       "      <td>ed sheeran</td>\n",
       "      <td>2015</td>\n",
       "      <td>i met this girl late last year she said dont ...</td>\n",
       "      <td>1.0</td>\n",
       "    </tr>\n",
       "  </tbody>\n",
       "</table>\n",
       "</div>"
      ],
      "text/plain": [
       "      Rank               Song      Artist  Year  \\\n",
       "4874    75         the a team  ed sheeran  2013   \n",
       "4951    52               dont  ed sheeran  2014   \n",
       "4955    56               sing  ed sheeran  2014   \n",
       "5001     2  thinking out loud  ed sheeran  2015   \n",
       "5033    34         photograph  ed sheeran  2015   \n",
       "5091    92               dont  ed sheeran  2015   \n",
       "\n",
       "                                                 Lyrics  Source  \n",
       "4874  white lips pale face breathing in snowflakes b...     3.0  \n",
       "4951   i met this girl late last year she said dont ...     1.0  \n",
       "4955   its late in the evening glass on the side now...     1.0  \n",
       "5001   when your legs dont work like they used to be...     1.0  \n",
       "5033   loving can hurt loving can hurt sometimes but...     1.0  \n",
       "5091   i met this girl late last year she said dont ...     1.0  "
      ]
     },
     "execution_count": 36,
     "metadata": {},
     "output_type": "execute_result"
    }
   ],
   "source": [
    "\n",
    "df = pd.read_csv(\"billboard_lyrics_1964-2015.csv\", encoding='iso-8859-1') \n",
    "df.query(\"Artist == 'ed sheeran'\")"
   ]
  },
  {
   "cell_type": "code",
   "execution_count": 29,
   "metadata": {},
   "outputs": [
    {
     "data": {
      "text/html": [
       "<div>\n",
       "<style>\n",
       "    .dataframe thead tr:only-child th {\n",
       "        text-align: right;\n",
       "    }\n",
       "\n",
       "    .dataframe thead th {\n",
       "        text-align: left;\n",
       "    }\n",
       "\n",
       "    .dataframe tbody tr th {\n",
       "        vertical-align: top;\n",
       "    }\n",
       "</style>\n",
       "<table border=\"1\" class=\"dataframe\">\n",
       "  <thead>\n",
       "    <tr style=\"text-align: right;\">\n",
       "      <th></th>\n",
       "      <th>Rank</th>\n",
       "      <th>Song</th>\n",
       "      <th>Artist</th>\n",
       "      <th>Year</th>\n",
       "      <th>Lyrics</th>\n",
       "      <th>Source</th>\n",
       "    </tr>\n",
       "  </thead>\n",
       "  <tbody>\n",
       "    <tr>\n",
       "      <th>5001</th>\n",
       "      <td>2</td>\n",
       "      <td>thinking out loud</td>\n",
       "      <td>ed sheeran</td>\n",
       "      <td>2015</td>\n",
       "      <td>when your legs dont work like they used to be...</td>\n",
       "      <td>1.0</td>\n",
       "    </tr>\n",
       "  </tbody>\n",
       "</table>\n",
       "</div>"
      ],
      "text/plain": [
       "      Rank               Song      Artist  Year  \\\n",
       "5001     2  thinking out loud  ed sheeran  2015   \n",
       "\n",
       "                                                 Lyrics  Source  \n",
       "5001   when your legs dont work like they used to be...     1.0  "
      ]
     },
     "execution_count": 29,
     "metadata": {},
     "output_type": "execute_result"
    }
   ],
   "source": [
    "df.iloc[[5001]]"
   ]
  },
  {
   "cell_type": "code",
   "execution_count": 38,
   "metadata": {},
   "outputs": [
    {
     "data": {
      "text/plain": [
       "'white lips pale face breathing in snowflakes burnt lungs sour taste lights gone days end struggling to pay rent long nights strange men and they say shes in the class a team stuck in her daydream been this way since 18 but lately her face seems slowly sinking wasting crumbling like pastries they scream the worst things in life come free to us cause were just under the upperhand and go mad for a couple grams and she dont want to go outside tonightand in a pipe she flies to the motherland or sells love to another man its too cold outside for angels to fly angels to fly ripped gloves raincoat tried to swim stay afloat dry house wet clothes loose change bank notes wearyeyed dry throat cool girl no phone and they say shes in the class a team stuck in her daydream been this way since 18 but lately her face seems slowly sinking wasting crumbling like pastries they scream the worst things in life come free to us cause were just under the upperhand and go mad for a couple grams but she dont want to go outside tonight and in a pipe she flies to the motherland sells love to another man its too cold outside for angels to fly an angel will die covered in white closed eye and hoping for a better life this time well fade out tonight straight down the line and they say shes in the class a team stuck in her daydream been this way since 18 but lately her face seems slowly sinking wasting crumbling like pastries they scream the worst things in life come free to us and were all under the upperhand go mad for a couple grams and we dont want to go outside tonight in a pipe fly to the motherland or sell love to another man its too cold outside for angels to fly angels to fly to fly fly for angels to fly to fly to fly angels to die i met this girl late last year she said dont you worry if i disappear i told her im not really looking for another mistake i called an old friend thinking that the trouble would wait but then i jumped right in a week later returned i reckon she was only looking for a lover to burn but i gave her my time for two or three nights then i put it on pause until the moment was right i went away for months until our paths crossed again she told me i was never looking for a friend maybe you can swing by my room around ten baby bring the lemon and a bottle of gin well be in between the sheets till the late am baby if you wanted me then you should have just said shes singingdont fuck with my love that heart is so cold all over my own i dont wanna know that babe dont fuck with my love i told her she knows take aim and reload i dont wanna know that babefor a couple of weeks i only want to see her we drink away the days with a take away pizza before a text message was the only way to reach her now shes staying at my place and loves the way i treat her singing out aretha all over the track like a feature and never wants to sleep i guess that i dont want to either but me and her we make money the same way four cities two planes the same day and those shows have never been what its about maybe well go together and just figure it out id rather put on a film with you and sit on the couch but we should get on the plane or well be missing it now wish id have written it down the way that things played out when she was kissing him how i was confused about she should figure it out why im sat here singingdont with my love that heart is so cold all over my own i dont wanna know that babe dont fuck with my love i told her she knows take aim and reload i dont wanna know that babeon my hotel door i dont even know if she knows what for she was crying on my shoulder i already told you trust and respect is what we do this for i never intended to be next but you didnt need to to take him to bed thats all and i never saw him as a threat until you disappeared with him to have sex of course its not like we were both on tour we were staying on the same hotel floor and i wasnt looking for a promise or commitment but it was never just fun and i thought you were different this is not the way you realize that you want it its a bit too much too late if im honest and all this time god knows im singingdont fuck with my love that heart is so cold all over my own i dont wanna know that babe dont fuck with my love i told her she knows take aim and reload i dont wanna know that babedont fuck with my love that heart is so cold all over my own i dont wanna know that babe dont fuck with my love i told her she knows take aim and reload i dont wanna know that babe  its late in the evening glass on the side now ive been sat with you for most of the night ignoring everybody here we wish they would disappear so maybe we could get down now i dont wanna know if youre getting ahead of the program i want you to be mine lady to hold your body close take another step into the nomans land for the longest time ladyi need you darling come on set the tone if you feel youre falling wont you let me know oh oh ooh if you love me come on get involved feel it rushing through you from your head to toe oh oh oohsing oh oh oh oh louder oh oh sing oh ohthis love is a blaze i saw flames from the side of the stage and the fire brigade comes in a couple of days until then we got nothing to say and nothing to know but something to drink and maybe something to smoke let it go until i wrote a change singing we found love in a local raid no i dont really know what im supposed to say but i can just figure it out and hope and pray i told them my name and said its nice to meet ya then she handed me of a bottle of water filled with tequila i already know shes a keeper just from this one small act of kindness im in deep if anybody finds out im meant to drive home but im drunk and gonna live it now no we just sit on the couch one thing led to another now shes kissing my mouthi need you darling come on set the tone if you feel youre falling wont you let me know oh oh if you love me come on get involved feel it rushing through you from your head to toe oh ohsing oh oh oh oh louder oh oh sing oh ohcan you feel it all the guys in here dont really wanna dance can you feel it all that i can hear is music from the back can you feel it found you hiding here so hoped youd take my hand darling before the beats kicks in again can you feel it oh can you feel it oh no no nosing i need you darling come on set the tone if you feel youre falling wont you let me know louder oh oh sing if you love me come on get involved feel it rushing through you from your head to toe louder oh oh sing  when your legs dont work like they used to before and i cant sweep you off of your feet will your mouth still remember the taste of my love will your eyes still smile from your cheeksand darling i will be loving you til were 70 and baby my heart could still fall as hard at 23 and im thinking bout how people fall in love in mysterious ways maybe just the touch of a hand oh me i fall in love with you every single day and i just wanna tell you i amso honey now take me into your loving arms kiss me under the light of a thousand stars place your head on my beating heart im thinking out loud maybe we found love right where we arewhen my hairs all but gone and my memory fades and the crowds dont remember my name when my hands dont play the strings the same way mm i know you will still love me the samecause honey your soul can never grow old its evergreen baby your smiles forever in my mind and memoryim thinking bout how people fall in love in mysterious ways maybe its all part of a plan ill just keep on making the same mistakes hoping that youll understandbut baby now take me into your loving arms kiss me under the light of a thousand stars place your head on my beating heart im thinking out loud that maybe we found love right where we are ohah la la la la la la la la la la la laso baby now take me into your loving arms kiss me under the light of a thousand stars oh darling place your head on my beating heart im thinking out loud that maybe we found love right where we areoh maybe we found love right where we are and we found love right where we are  loving can hurt loving can hurt sometimes but its the only thing that i know when it gets hard you know it can get hard sometimes it is the only thing that makes us feel alivewe keep this love in a photograph we made these memories for ourselves where our eyes are never closing hearts are never broken and times forever frozen stillso you can keep me inside the pocket of your ripped jeans holding me closer til our eyes meet you wont ever be alone wait for me to come homeloving can heal loving can mend your soul and its the only thing that i know know i swear it will get easier remember that with every piece of you hm and its the only thing we take with us when we diehm we keep this love in this photograph we made these memories for ourselves where our eyes are never closing hearts were never broken and times forever frozen stillso you can keep me inside the pocket of your ripped jeans holding me closer til our eyes meet you wont ever be aloneand if you hurt me thats okay baby only words bleed inside these pages you just hold me and i wont ever let you go wait for me to come home wait for me to come home wait for me to come home wait for me to come homeyou can fit me inside the necklace you got when you were sixteen next to your heartbeat where i should be keep it deep within your souland if you hurt me well thats okay baby only words bleed inside these pages you just hold me and i wont ever let you gowhen im away i will remember how you kissed me under the lamppost back on sixth street hearing you whisper through the phone wait for me to come home  i met this girl late last year she said dont you worry if i disappear i told her im not really looking for another mistake i called an old friend thinking that the trouble would wait but then i jumped right in a week later returned i reckon she was only looking for a lover to burn but i gave her my time for two or three nights then i put it on pause until the moment was right i went away for months until our paths crossed again she told me i was never looking for a friend maybe you can swing by my room around ten baby bring the lemon and a bottle of gin well be in between the sheets till the late am baby if you wanted me then you should have just said shes singingdont fuck with my love that heart is so cold all over my own i dont wanna know that babe dont fuck with my love i told her she knows take aim and reload i dont wanna know that babefor a couple of weeks i only want to see her we drink away the days with a take away pizza before a text message was the only way to reach her now shes staying at my place and loves the way i treat her singing out aretha all over the track like a feature and never wants to sleep i guess that i dont want to either but me and her we make money the same way four cities two planes the same day and those shows have never been what its about maybe well go together and just figure it out id rather put on a film with you and sit on the couch but we should get on the plane or well be missing it now wish id have written it down the way that things played out when she was kissing him how i was confused about she should figure it out why im sat here singingdont with my love that heart is so cold all over my own i dont wanna know that babe dont fuck with my love i told her she knows take aim and reload i dont wanna know that babeon my hotel door i dont even know if she knows what for she was crying on my shoulder i already told you trust and respect is what we do this for i never intended to be next but you didnt need to to take him to bed thats all and i never saw him as a threat until you disappeared with him to have sex of course its not like we were both on tour we were staying on the same hotel floor and i wasnt looking for a promise or commitment but it was never just fun and i thought you were different this is not the way you realize that you want it its a bit too much too late if im honest and all this time god knows im singingdont fuck with my love that heart is so cold all over my own i dont wanna know that babe dont fuck with my love i told her she knows take aim and reload i dont wanna know that babedont fuck with my love that heart is so cold all over my own i dont wanna know that babe dont fuck with my love i told her she knows take aim and reload i dont wanna know that babe '"
      ]
     },
     "execution_count": 38,
     "metadata": {},
     "output_type": "execute_result"
    }
   ],
   "source": [
    "mysong = df.iloc[4874]['Lyrics'] + df.iloc[4951]['Lyrics']+df.iloc[4955]['Lyrics']+ df.iloc[5001]['Lyrics']+ df.iloc[5033]['Lyrics']+df.iloc[5091]['Lyrics']\n",
    "mysong "
   ]
  },
  {
   "cell_type": "code",
   "execution_count": 39,
   "metadata": {
    "collapsed": true
   },
   "outputs": [],
   "source": [
    "import nltk\n",
    "from nltk.corpus import brown as cb\n",
    "from nltk.corpus import gutenberg as cg"
   ]
  },
  {
   "cell_type": "code",
   "execution_count": 40,
   "metadata": {},
   "outputs": [
    {
     "name": "stdout",
     "output_type": "stream",
     "text": [
      "['adventure', 'belles_lettres', 'editorial', 'fiction', 'government', 'hobbies', 'humor', 'learned', 'lore', 'mystery', 'news', 'religion', 'reviews', 'romance', 'science_fiction']\n"
     ]
    }
   ],
   "source": [
    "print (cb.categories())"
   ]
  },
  {
   "cell_type": "code",
   "execution_count": 41,
   "metadata": {},
   "outputs": [
    {
     "name": "stdout",
     "output_type": "stream",
     "text": [
      "<FreqDist with 525 samples and 2597 outcomes>\n",
      "[('i', 89), ('the', 80), ('you', 66), ('to', 65), ('and', 63), ('my', 47), ('a', 46), ('that', 40), ('dont', 39), ('me', 37), ('love', 36), ('for', 34), ('we', 33), ('in', 32), ('it', 30), ('know', 30), ('oh', 29), ('she', 27), ('on', 27), ('with', 27), ('her', 26), ('of', 23), ('your', 22), ('but', 21), ('na', 20), ('all', 19), ('wan', 19), ('if', 18), ('take', 18), ('im', 17), ('never', 17), ('can', 17), ('this', 16), ('just', 16), ('its', 16), ('was', 16), ('come', 15), ('told', 15), ('is', 15), ('way', 14), ('out', 14), ('fuck', 14), ('were', 12), ('only', 12), ('maybe', 12), ('heart', 12), ('knows', 12), ('feel', 12), ('cold', 11), ('fly', 11), ('be', 11), ('now', 11), ('la', 11), ('go', 10), ('want', 10), ('baby', 10), ('so', 10), ('over', 10), ('babe', 10), ('shes', 9), ('right', 9), ('they', 8), ('like', 8), ('or', 8), ('well', 8), ('looking', 8), ('wait', 8), ('then', 8), ('until', 8), ('have', 8), ('own', 8), ('aim', 8), ('reload', 8), ('same', 8), ('get', 8), ('him', 8), ('where', 8), ('under', 7), ('another', 7), ('too', 7), ('angels', 7), ('will', 7), ('late', 7), ('thinking', 7), ('away', 7), ('should', 7), ('what', 7), ('when', 7), ('wont', 7), ('from', 7), ('found', 7), ('loving', 7), ('been', 6), ('couple', 6), ('outside', 6), ('time', 6), ('not', 6), ('our', 6), ('singingdont', 6), ('darling', 6)]\n"
     ]
    }
   ],
   "source": [
    "import nltk\n",
    "from nltk import FreqDist\n",
    "\n",
    "\n",
    "tokens = nltk.word_tokenize(mysong)\n",
    "fdist=FreqDist(tokens)\n",
    "print (fdist)\n",
    "\n",
    "print (fdist.most_common(100))"
   ]
  },
  {
   "cell_type": "code",
   "execution_count": 51,
   "metadata": {},
   "outputs": [],
   "source": [
    "from nltk.tokenize import sent_tokenize, word_tokenize\n",
    "from nltk.corpus import stopwords\n",
    "stopWords = set(stopwords.words('english'))"
   ]
  },
  {
   "cell_type": "code",
   "execution_count": 62,
   "metadata": {},
   "outputs": [
    {
     "name": "stdout",
     "output_type": "stream",
     "text": [
      " white lips pale face breathing snowflakes burnt lungs sour taste lights gone days end struggling pay rent long nights strange men say shes class team stuck daydream way since 18 lately face seems slowly sinking wasting crumbling like pastries scream worst things life come free us cause upperhand go mad couple grams dont want go outside tonightand pipe flies motherland sells love another man cold outside angels fly angels fly ripped gloves raincoat tried swim stay afloat dry house wet clothes loose change bank notes wearyeyed dry throat cool girl phone say shes class team stuck daydream way since 18 lately face seems slowly sinking wasting crumbling like pastries scream worst things life come free us cause upperhand go mad couple grams dont want go outside tonight pipe flies motherland sells love another man cold outside angels fly angel die covered white closed eye hoping better life time well fade tonight straight line say shes class team stuck daydream way since 18 lately face seems slowly sinking wasting crumbling like pastries scream worst things life come free us upperhand go mad couple grams dont want go outside tonight pipe fly motherland sell love another man cold outside angels fly angels fly fly fly angels fly fly fly angels die met girl late last year said dont worry disappear told im really looking another mistake called old friend thinking trouble would wait jumped right week later returned reckon looking lover burn gave time two three nights put pause moment right went away months paths crossed told never looking friend maybe swing room around ten baby bring lemon bottle gin well sheets till late baby wanted said shes singingdont fuck love heart cold dont wan na know babe dont fuck love told knows take aim reload dont wan na know babefor couple weeks want see drink away days take away pizza text message way reach shes staying place loves way treat singing aretha track like feature never wants sleep guess dont want either make money way four cities two planes day shows never maybe well go together figure id rather put film sit couch get plane well missing wish id written way things played kissing confused figure im sat singingdont love heart cold dont wan na know babe dont fuck love told knows take aim reload dont wan na know babeon hotel door dont even know knows crying shoulder already told trust respect never intended next didnt need take bed thats never saw threat disappeared sex course like tour staying hotel floor wasnt looking promise commitment never fun thought different way realize want bit much late im honest time god knows im singingdont fuck love heart cold dont wan na know babe dont fuck love told knows take aim reload dont wan na know babedont fuck love heart cold dont wan na know babe dont fuck love told knows take aim reload dont wan na know babe late evening glass side ive sat night ignoring everybody wish would disappear maybe could get dont wan na know youre getting ahead program want mine lady hold body close take another step nomans land longest time ladyi need darling come set tone feel youre falling wont let know oh oh ooh love come get involved feel rushing head toe oh oh oohsing oh oh oh oh louder oh oh sing oh ohthis love blaze saw flames side stage fire brigade comes couple days got nothing say nothing know something drink maybe something smoke let go wrote change singing found love local raid dont really know im supposed say figure hope pray told name said nice meet ya handed bottle water filled tequila already know shes keeper one small act kindness im deep anybody finds im meant drive home im drunk gon na live sit couch one thing led another shes kissing mouthi need darling come set tone feel youre falling wont let know oh oh love come get involved feel rushing head toe oh ohsing oh oh oh oh louder oh oh sing oh ohcan feel guys dont really wan na dance feel hear music back feel found hiding hoped youd take hand darling beats kicks feel oh feel oh nosing need darling come set tone feel youre falling wont let know louder oh oh sing love come get involved feel rushing head toe louder oh oh sing legs dont work like used cant sweep feet mouth still remember taste love eyes still smile cheeksand darling loving til 70 baby heart could still fall hard 23 im thinking bout people fall love mysterious ways maybe touch hand oh fall love every single day wan na tell amso honey take loving arms kiss light thousand stars place head beating heart im thinking loud maybe found love right arewhen hairs gone memory fades crowds dont remember name hands dont play strings way mm know still love samecause honey soul never grow old evergreen baby smiles forever mind memoryim thinking bout people fall love mysterious ways maybe part plan ill keep making mistakes hoping youll understandbut baby take loving arms kiss light thousand stars place head beating heart im thinking loud maybe found love right ohah la la la la la la la la la la la laso baby take loving arms kiss light thousand stars oh darling place head beating heart im thinking loud maybe found love right areoh maybe found love right found love right loving hurt loving hurt sometimes thing know gets hard know get hard sometimes thing makes us feel alivewe keep love photograph made memories eyes never closing hearts never broken times forever frozen stillso keep inside pocket ripped jeans holding closer til eyes meet wont ever alone wait come homeloving heal loving mend soul thing know know swear get easier remember every piece hm thing take us diehm keep love photograph made memories eyes never closing hearts never broken times forever frozen stillso keep inside pocket ripped jeans holding closer til eyes meet wont ever aloneand hurt thats okay baby words bleed inside pages hold wont ever let go wait come home wait come home wait come home wait come homeyou fit inside necklace got sixteen next heartbeat keep deep within souland hurt well thats okay baby words bleed inside pages hold wont ever let gowhen im away remember kissed lamppost back sixth street hearing whisper phone wait come home met girl late last year said dont worry disappear told im really looking another mistake called old friend thinking trouble would wait jumped right week later returned reckon looking lover burn gave time two three nights put pause moment right went away months paths crossed told never looking friend maybe swing room around ten baby bring lemon bottle gin well sheets till late baby wanted said shes singingdont fuck love heart cold dont wan na know babe dont fuck love told knows take aim reload dont wan na know babefor couple weeks want see drink away days take away pizza text message way reach shes staying place loves way treat singing aretha track like feature never wants sleep guess dont want either make money way four cities two planes day shows never maybe well go together figure id rather put film sit couch get plane well missing wish id written way things played kissing confused figure im sat singingdont love heart cold dont wan na know babe dont fuck love told knows take aim reload dont wan na know babeon hotel door dont even know knows crying shoulder already told trust respect never intended next didnt need take bed thats never saw threat disappeared sex course like tour staying hotel floor wasnt looking promise commitment never fun thought different way realize want bit much late im honest time god knows im singingdont fuck love heart cold dont wan na know babe dont fuck love told knows take aim reload dont wan na know babedont fuck love heart cold dont wan na know babe dont fuck love told knows take aim reload dont wan na know babe\n"
     ]
    }
   ],
   "source": [
    "stopWords\n",
    "words = word_tokenize(mysong)\n",
    "wordsFiltered = \"\"\n",
    " \n",
    "for w in words:\n",
    "    if w not in stopWords:\n",
    "        wordsFiltered = wordsFiltered + ' ' +w\n",
    " \n",
    "print(wordsFiltered)\n",
    "\n"
   ]
  },
  {
   "cell_type": "code",
   "execution_count": 65,
   "metadata": {},
   "outputs": [
    {
     "name": "stdout",
     "output_type": "stream",
     "text": [
      "<FreqDist with 446 samples and 1334 outcomes>\n",
      "[('dont', 39), ('love', 36), ('know', 30), ('oh', 29), ('na', 20), ('wan', 19), ('take', 18), ('im', 17), ('never', 17), ('come', 15), ('told', 15), ('way', 14), ('fuck', 14), ('maybe', 12), ('heart', 12), ('knows', 12), ('feel', 12), ('cold', 11), ('fly', 11), ('la', 11), ('go', 10), ('want', 10), ('baby', 10), ('babe', 10), ('shes', 9), ('right', 9), ('like', 8), ('well', 8), ('looking', 8), ('wait', 8), ('aim', 8), ('reload', 8), ('get', 8), ('another', 7), ('angels', 7), ('late', 7), ('thinking', 7), ('away', 7), ('wont', 7), ('found', 7), ('loving', 7), ('couple', 6), ('outside', 6), ('time', 6), ('singingdont', 6), ('darling', 6), ('let', 6), ('head', 6), ('keep', 6), ('say', 5), ('things', 5), ('us', 5), ('said', 5), ('place', 5), ('figure', 5), ('need', 5), ('home', 5), ('thing', 5), ('eyes', 5), ('inside', 5), ('face', 4), ('days', 4), ('life', 4), ('really', 4), ('friend', 4), ('two', 4), ('put', 4), ('staying', 4), ('id', 4), ('hotel', 4), ('thats', 4), ('youre', 4), ('louder', 4), ('sing', 4), ('still', 4), ('remember', 4), ('fall', 4), ('hurt', 4), ('ever', 4), ('nights', 3), ('class', 3), ('team', 3), ('stuck', 3), ('daydream', 3), ('since', 3), ('18', 3), ('lately', 3), ('seems', 3), ('slowly', 3), ('sinking', 3), ('wasting', 3), ('crumbling', 3), ('pastries', 3), ('scream', 3), ('worst', 3), ('free', 3), ('upperhand', 3), ('mad', 3), ('grams', 3), ('pipe', 3)]\n"
     ]
    }
   ],
   "source": [
    "tokens = nltk.word_tokenize(wordsFiltered)\n",
    "fdist=FreqDist(tokens)\n",
    "print (fdist)\n",
    "\n",
    "print (fdist.most_common(100))"
   ]
  },
  {
   "cell_type": "code",
   "execution_count": 67,
   "metadata": {},
   "outputs": [
    {
     "data": {
      "text/plain": [
       "'maximum'"
      ]
     },
     "execution_count": 67,
     "metadata": {},
     "output_type": "execute_result"
    }
   ],
   "source": [
    "from nltk.stem.porter import PorterStemmer\n",
    "porter_stemmer = PorterStemmer()\n",
    "porter_stemmer.stem('maximum')\n"
   ]
  },
  {
   "cell_type": "code",
   "execution_count": null,
   "metadata": {
    "collapsed": true
   },
   "outputs": [],
   "source": []
  }
 ],
 "metadata": {
  "kernelspec": {
   "display_name": "Python 3",
   "language": "python",
   "name": "python3"
  },
  "language_info": {
   "codemirror_mode": {
    "name": "ipython",
    "version": 3
   },
   "file_extension": ".py",
   "mimetype": "text/x-python",
   "name": "python",
   "nbconvert_exporter": "python",
   "pygments_lexer": "ipython3",
   "version": "3.6.3"
  }
 },
 "nbformat": 4,
 "nbformat_minor": 2
}
